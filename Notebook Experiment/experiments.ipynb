{
 "cells": [
  {
   "cell_type": "code",
   "id": "initial_id",
   "metadata": {
    "collapsed": true,
    "ExecuteTime": {
     "end_time": "2024-06-23T09:31:02.881084Z",
     "start_time": "2024-06-23T09:31:02.875501Z"
    }
   },
   "source": [
    "import logging\n",
    "\n",
    "logger=logging.getLogger(__name__)\n",
    "logger.info('Hello')"
   ],
   "outputs": [],
   "execution_count": 1
  },
  {
   "metadata": {
    "ExecuteTime": {
     "end_time": "2024-06-23T09:31:07.246594Z",
     "start_time": "2024-06-23T09:31:07.240054Z"
    }
   },
   "cell_type": "code",
   "source": "logger",
   "id": "4e0ac744309fd3bc",
   "outputs": [
    {
     "data": {
      "text/plain": [
       "<Logger __main__ (WARNING)>"
      ]
     },
     "execution_count": 2,
     "metadata": {},
     "output_type": "execute_result"
    }
   ],
   "execution_count": 2
  },
  {
   "metadata": {
    "ExecuteTime": {
     "end_time": "2024-06-23T09:44:54.727607Z",
     "start_time": "2024-06-23T09:44:54.715259Z"
    }
   },
   "cell_type": "code",
   "source": [
    "import os\n",
    "from datetime import datetime\n",
    "LOG_FILE_NAME = f\"{datetime.now().strftime('%m_%d_%Y_%H_%M_%S')}.log\"\n",
    "print(LOG_FILE_NAME)\n",
    "logs_path = os.path.join(os.getcwd(),'Logs_data', LOG_FILE_NAME)\n",
    "print(f'logs_path: {logs_path}')\n",
    "print(os.makedirs(logs_path, exist_ok=True))\n",
    "LOG_FILE_PATH = os.path.join(logs_path, LOG_FILE_NAME)\n",
    "print(f'LOG_FILE_PATH: {LOG_FILE_PATH}')"
   ],
   "id": "da8ee97489bd18c7",
   "outputs": [
    {
     "name": "stdout",
     "output_type": "stream",
     "text": [
      "06_23_2024_15_14_54.log\n",
      "logs_path: /Users/mohitverma/Documents/Etech-RAG-Chatbot/Etech-RAG/Logs_data/06_23_2024_15_14_54.log\n",
      "None\n",
      "LOG_FILE_PATH: /Users/mohitverma/Documents/Etech-RAG-Chatbot/Etech-RAG/Logs_data/06_23_2024_15_14_54.log/06_23_2024_15_14_54.log\n"
     ]
    }
   ],
   "execution_count": 7
  },
  {
   "metadata": {
    "ExecuteTime": {
     "end_time": "2024-06-23T12:47:31.676106Z",
     "start_time": "2024-06-23T12:47:31.651396Z"
    }
   },
   "cell_type": "code",
   "source": [
    "from QASystem.constants import *\n",
    "\n",
    "import os\n",
    "import psycopg2\n",
    "from dotenv import load_dotenv\n",
    "load_dotenv()"
   ],
   "id": "7537001477adb01f",
   "outputs": [
    {
     "data": {
      "text/plain": [
       "True"
      ]
     },
     "execution_count": 15,
     "metadata": {},
     "output_type": "execute_result"
    }
   ],
   "execution_count": 15
  },
  {
   "metadata": {
    "ExecuteTime": {
     "end_time": "2024-06-23T12:49:40.770887Z",
     "start_time": "2024-06-23T12:49:39.085641Z"
    }
   },
   "cell_type": "code",
   "source": [
    "conn = psycopg2.connect(\n",
    "        dbname= PGSQL_DATABASE_NAME,\n",
    "        user=PGSQL_DB_USER_NAME,\n",
    "        host=os.getenv('PGSQL_DB_HOST'),\n",
    "        password=os.getenv('PGSQL_DB_PASSWORD'),\n",
    "        port=PGSQL_PORT\n",
    "    )\n",
    "\n",
    "cursor = conn.cursor()\n",
    "\n",
    "database_exist = cursor.execute(f\"SELECT datname FROM pg_database WHERE datistemplate = false;\")\n",
    "rows = cursor.fetchall()"
   ],
   "id": "99ce4a9429e9ea3a",
   "outputs": [],
   "execution_count": 21
  },
  {
   "metadata": {
    "ExecuteTime": {
     "end_time": "2024-06-23T12:49:59.629480Z",
     "start_time": "2024-06-23T12:49:59.618741Z"
    }
   },
   "cell_type": "code",
   "source": [
    "database_exist = []\n",
    "for row in rows:\n",
    "    database_exist.append(row[0])"
   ],
   "id": "9e75a8095523900e",
   "outputs": [],
   "execution_count": 23
  },
  {
   "metadata": {
    "ExecuteTime": {
     "end_time": "2024-06-23T12:50:07.789396Z",
     "start_time": "2024-06-23T12:50:07.783857Z"
    }
   },
   "cell_type": "code",
   "source": "database_exist",
   "id": "c48f1c14bb38120f",
   "outputs": [
    {
     "data": {
      "text/plain": [
       "['postgres', 'postgres2']"
      ]
     },
     "execution_count": 24,
     "metadata": {},
     "output_type": "execute_result"
    }
   ],
   "execution_count": 24
  },
  {
   "metadata": {
    "ExecuteTime": {
     "end_time": "2024-06-23T13:06:02.617244Z",
     "start_time": "2024-06-23T13:06:02.611597Z"
    }
   },
   "cell_type": "code",
   "source": "from psycopg2 import sql",
   "id": "96a2f0ca5366b820",
   "outputs": [],
   "execution_count": 27
  },
  {
   "metadata": {
    "ExecuteTime": {
     "end_time": "2024-06-23T13:09:34.835056Z",
     "start_time": "2024-06-23T13:09:34.443799Z"
    }
   },
   "cell_type": "code",
   "source": [
    "try:\n",
    "    cursor = conn.cursor()\n",
    "    cursor.execute(sql.SQL(\"CREATE DATABASE {}\").format(sql.Identifier('test')))\n",
    "    conn.autocommit = False\n",
    "except psycopg2.Error as e:\n",
    "    e\n"
   ],
   "id": "18935c4f9944a9ce",
   "outputs": [],
   "execution_count": 32
  },
  {
   "metadata": {},
   "cell_type": "code",
   "outputs": [],
   "execution_count": null,
   "source": "",
   "id": "544063424b69ea0a"
  }
 ],
 "metadata": {
  "kernelspec": {
   "display_name": "Python 3",
   "language": "python",
   "name": "python3"
  },
  "language_info": {
   "codemirror_mode": {
    "name": "ipython",
    "version": 2
   },
   "file_extension": ".py",
   "mimetype": "text/x-python",
   "name": "python",
   "nbconvert_exporter": "python",
   "pygments_lexer": "ipython2",
   "version": "2.7.6"
  }
 },
 "nbformat": 4,
 "nbformat_minor": 5
}
